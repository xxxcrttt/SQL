{
  "nbformat": 4,
  "nbformat_minor": 0,
  "metadata": {
    "colab": {
      "name": "sps_lecture3.ipynb",
      "provenance": [],
      "authorship_tag": "ABX9TyPNRjKHs6LiYxaQJq2ZqlYK",
      "include_colab_link": true
    },
    "kernelspec": {
      "name": "python3",
      "display_name": "Python 3"
    },
    "language_info": {
      "name": "python"
    },
    "widgets": {
      "application/vnd.jupyter.widget-state+json": {
        "40b89a890b8e4eb894b6d3ddfd5dc9b7": {
          "model_module": "@jupyter-widgets/controls",
          "model_name": "VBoxModel",
          "model_module_version": "1.5.0",
          "state": {
            "_view_name": "VBoxView",
            "_dom_classes": [
              "widget-interact"
            ],
            "_model_name": "VBoxModel",
            "_view_module": "@jupyter-widgets/controls",
            "_model_module_version": "1.5.0",
            "_view_count": null,
            "_view_module_version": "1.5.0",
            "box_style": "",
            "layout": "IPY_MODEL_4f2032c1e69e4c5faed02a96837b9037",
            "_model_module": "@jupyter-widgets/controls",
            "children": [
              "IPY_MODEL_d4c282757b8e4dd69a14f4cc44fcc530",
              "IPY_MODEL_18fcb042f1884502983a05fccd05b2b6",
              "IPY_MODEL_aaa011d1d68a40e382cdc998f6808fc0"
            ]
          }
        },
        "4f2032c1e69e4c5faed02a96837b9037": {
          "model_module": "@jupyter-widgets/base",
          "model_name": "LayoutModel",
          "model_module_version": "1.2.0",
          "state": {
            "_view_name": "LayoutView",
            "grid_template_rows": null,
            "right": null,
            "justify_content": null,
            "_view_module": "@jupyter-widgets/base",
            "overflow": null,
            "_model_module_version": "1.2.0",
            "_view_count": null,
            "flex_flow": null,
            "width": null,
            "min_width": null,
            "border": null,
            "align_items": null,
            "bottom": null,
            "_model_module": "@jupyter-widgets/base",
            "top": null,
            "grid_column": null,
            "overflow_y": null,
            "overflow_x": null,
            "grid_auto_flow": null,
            "grid_area": null,
            "grid_template_columns": null,
            "flex": null,
            "_model_name": "LayoutModel",
            "justify_items": null,
            "grid_row": null,
            "max_height": null,
            "align_content": null,
            "visibility": null,
            "align_self": null,
            "height": null,
            "min_height": null,
            "padding": null,
            "grid_auto_rows": null,
            "grid_gap": null,
            "max_width": null,
            "order": null,
            "_view_module_version": "1.2.0",
            "grid_template_areas": null,
            "object_position": null,
            "object_fit": null,
            "grid_auto_columns": null,
            "margin": null,
            "display": null,
            "left": null
          }
        },
        "d4c282757b8e4dd69a14f4cc44fcc530": {
          "model_module": "@jupyter-widgets/controls",
          "model_name": "FloatSliderModel",
          "model_module_version": "1.5.0",
          "state": {
            "_view_name": "FloatSliderView",
            "style": "IPY_MODEL_dbffb099ae6941c889c12679d255ea18",
            "_dom_classes": [],
            "description": "p",
            "step": 0.05,
            "_model_name": "FloatSliderModel",
            "orientation": "horizontal",
            "max": 1,
            "_view_module": "@jupyter-widgets/controls",
            "_model_module_version": "1.5.0",
            "value": 0.4,
            "_view_count": null,
            "disabled": false,
            "_view_module_version": "1.5.0",
            "min": 0,
            "continuous_update": true,
            "readout_format": ".2f",
            "description_tooltip": null,
            "readout": true,
            "_model_module": "@jupyter-widgets/controls",
            "layout": "IPY_MODEL_e60985c7585547159224ce759b7ffafd"
          }
        },
        "18fcb042f1884502983a05fccd05b2b6": {
          "model_module": "@jupyter-widgets/controls",
          "model_name": "ButtonModel",
          "model_module_version": "1.5.0",
          "state": {
            "_view_name": "ButtonView",
            "style": "IPY_MODEL_ceb580be896b48e882758afc736a1dd0",
            "_dom_classes": [],
            "description": "Run Interact",
            "_model_name": "ButtonModel",
            "button_style": "",
            "_view_module": "@jupyter-widgets/controls",
            "_model_module_version": "1.5.0",
            "tooltip": "",
            "_view_count": null,
            "disabled": false,
            "_view_module_version": "1.5.0",
            "layout": "IPY_MODEL_ab2d38f45a1147fb98cfd9de6d4ff41d",
            "_model_module": "@jupyter-widgets/controls",
            "icon": ""
          }
        },
        "aaa011d1d68a40e382cdc998f6808fc0": {
          "model_module": "@jupyter-widgets/output",
          "model_name": "OutputModel",
          "model_module_version": "1.0.0",
          "state": {
            "_view_name": "OutputView",
            "msg_id": "",
            "_dom_classes": [],
            "_model_name": "OutputModel",
            "outputs": [
              {
                "output_type": "display_data",
                "data": {
                  "text/plain": "tensor([0., 1., 1., 1., 1., 0., 0., 1., 0., 0.])"
                },
                "metadata": {}
              }
            ],
            "_view_module": "@jupyter-widgets/output",
            "_model_module_version": "1.0.0",
            "_view_count": null,
            "_view_module_version": "1.0.0",
            "layout": "IPY_MODEL_a938058d331b4cd88cd180b564e0b35d",
            "_model_module": "@jupyter-widgets/output"
          }
        },
        "dbffb099ae6941c889c12679d255ea18": {
          "model_module": "@jupyter-widgets/controls",
          "model_name": "SliderStyleModel",
          "model_module_version": "1.5.0",
          "state": {
            "_view_name": "StyleView",
            "handle_color": null,
            "_model_name": "SliderStyleModel",
            "description_width": "",
            "_view_module": "@jupyter-widgets/base",
            "_model_module_version": "1.5.0",
            "_view_count": null,
            "_view_module_version": "1.2.0",
            "_model_module": "@jupyter-widgets/controls"
          }
        },
        "e60985c7585547159224ce759b7ffafd": {
          "model_module": "@jupyter-widgets/base",
          "model_name": "LayoutModel",
          "model_module_version": "1.2.0",
          "state": {
            "_view_name": "LayoutView",
            "grid_template_rows": null,
            "right": null,
            "justify_content": null,
            "_view_module": "@jupyter-widgets/base",
            "overflow": null,
            "_model_module_version": "1.2.0",
            "_view_count": null,
            "flex_flow": null,
            "width": null,
            "min_width": null,
            "border": null,
            "align_items": null,
            "bottom": null,
            "_model_module": "@jupyter-widgets/base",
            "top": null,
            "grid_column": null,
            "overflow_y": null,
            "overflow_x": null,
            "grid_auto_flow": null,
            "grid_area": null,
            "grid_template_columns": null,
            "flex": null,
            "_model_name": "LayoutModel",
            "justify_items": null,
            "grid_row": null,
            "max_height": null,
            "align_content": null,
            "visibility": null,
            "align_self": null,
            "height": null,
            "min_height": null,
            "padding": null,
            "grid_auto_rows": null,
            "grid_gap": null,
            "max_width": null,
            "order": null,
            "_view_module_version": "1.2.0",
            "grid_template_areas": null,
            "object_position": null,
            "object_fit": null,
            "grid_auto_columns": null,
            "margin": null,
            "display": null,
            "left": null
          }
        },
        "ceb580be896b48e882758afc736a1dd0": {
          "model_module": "@jupyter-widgets/controls",
          "model_name": "ButtonStyleModel",
          "model_module_version": "1.5.0",
          "state": {
            "_view_name": "StyleView",
            "_model_name": "ButtonStyleModel",
            "_view_module": "@jupyter-widgets/base",
            "_model_module_version": "1.5.0",
            "_view_count": null,
            "button_color": null,
            "font_weight": "",
            "_view_module_version": "1.2.0",
            "_model_module": "@jupyter-widgets/controls"
          }
        },
        "ab2d38f45a1147fb98cfd9de6d4ff41d": {
          "model_module": "@jupyter-widgets/base",
          "model_name": "LayoutModel",
          "model_module_version": "1.2.0",
          "state": {
            "_view_name": "LayoutView",
            "grid_template_rows": null,
            "right": null,
            "justify_content": null,
            "_view_module": "@jupyter-widgets/base",
            "overflow": null,
            "_model_module_version": "1.2.0",
            "_view_count": null,
            "flex_flow": null,
            "width": null,
            "min_width": null,
            "border": null,
            "align_items": null,
            "bottom": null,
            "_model_module": "@jupyter-widgets/base",
            "top": null,
            "grid_column": null,
            "overflow_y": null,
            "overflow_x": null,
            "grid_auto_flow": null,
            "grid_area": null,
            "grid_template_columns": null,
            "flex": null,
            "_model_name": "LayoutModel",
            "justify_items": null,
            "grid_row": null,
            "max_height": null,
            "align_content": null,
            "visibility": null,
            "align_self": null,
            "height": null,
            "min_height": null,
            "padding": null,
            "grid_auto_rows": null,
            "grid_gap": null,
            "max_width": null,
            "order": null,
            "_view_module_version": "1.2.0",
            "grid_template_areas": null,
            "object_position": null,
            "object_fit": null,
            "grid_auto_columns": null,
            "margin": null,
            "display": null,
            "left": null
          }
        },
        "a938058d331b4cd88cd180b564e0b35d": {
          "model_module": "@jupyter-widgets/base",
          "model_name": "LayoutModel",
          "model_module_version": "1.2.0",
          "state": {
            "_view_name": "LayoutView",
            "grid_template_rows": null,
            "right": null,
            "justify_content": null,
            "_view_module": "@jupyter-widgets/base",
            "overflow": null,
            "_model_module_version": "1.2.0",
            "_view_count": null,
            "flex_flow": null,
            "width": null,
            "min_width": null,
            "border": null,
            "align_items": null,
            "bottom": null,
            "_model_module": "@jupyter-widgets/base",
            "top": null,
            "grid_column": null,
            "overflow_y": null,
            "overflow_x": null,
            "grid_auto_flow": null,
            "grid_area": null,
            "grid_template_columns": null,
            "flex": null,
            "_model_name": "LayoutModel",
            "justify_items": null,
            "grid_row": null,
            "max_height": null,
            "align_content": null,
            "visibility": null,
            "align_self": null,
            "height": null,
            "min_height": null,
            "padding": null,
            "grid_auto_rows": null,
            "grid_gap": null,
            "max_width": null,
            "order": null,
            "_view_module_version": "1.2.0",
            "grid_template_areas": null,
            "object_position": null,
            "object_fit": null,
            "grid_auto_columns": null,
            "margin": null,
            "display": null,
            "left": null
          }
        },
        "305b6234eb2949148772c7419096c845": {
          "model_module": "@jupyter-widgets/controls",
          "model_name": "VBoxModel",
          "model_module_version": "1.5.0",
          "state": {
            "_view_name": "VBoxView",
            "_dom_classes": [
              "widget-interact"
            ],
            "_model_name": "VBoxModel",
            "_view_module": "@jupyter-widgets/controls",
            "_model_module_version": "1.5.0",
            "_view_count": null,
            "_view_module_version": "1.5.0",
            "box_style": "",
            "layout": "IPY_MODEL_68f57d9bda694b0ea163cbcd922868ff",
            "_model_module": "@jupyter-widgets/controls",
            "children": [
              "IPY_MODEL_fc0fef65252d443f93bbba6032ba922e",
              "IPY_MODEL_54532e6003494944affc8971e866628b"
            ]
          }
        },
        "68f57d9bda694b0ea163cbcd922868ff": {
          "model_module": "@jupyter-widgets/base",
          "model_name": "LayoutModel",
          "model_module_version": "1.2.0",
          "state": {
            "_view_name": "LayoutView",
            "grid_template_rows": null,
            "right": null,
            "justify_content": null,
            "_view_module": "@jupyter-widgets/base",
            "overflow": null,
            "_model_module_version": "1.2.0",
            "_view_count": null,
            "flex_flow": null,
            "width": null,
            "min_width": null,
            "border": null,
            "align_items": null,
            "bottom": null,
            "_model_module": "@jupyter-widgets/base",
            "top": null,
            "grid_column": null,
            "overflow_y": null,
            "overflow_x": null,
            "grid_auto_flow": null,
            "grid_area": null,
            "grid_template_columns": null,
            "flex": null,
            "_model_name": "LayoutModel",
            "justify_items": null,
            "grid_row": null,
            "max_height": null,
            "align_content": null,
            "visibility": null,
            "align_self": null,
            "height": null,
            "min_height": null,
            "padding": null,
            "grid_auto_rows": null,
            "grid_gap": null,
            "max_width": null,
            "order": null,
            "_view_module_version": "1.2.0",
            "grid_template_areas": null,
            "object_position": null,
            "object_fit": null,
            "grid_auto_columns": null,
            "margin": null,
            "display": null,
            "left": null
          }
        },
        "fc0fef65252d443f93bbba6032ba922e": {
          "model_module": "@jupyter-widgets/controls",
          "model_name": "FloatSliderModel",
          "model_module_version": "1.5.0",
          "state": {
            "_view_name": "FloatSliderView",
            "style": "IPY_MODEL_ae81ffff64ab4585a2b87d37a770e8a0",
            "_dom_classes": [],
            "description": "p",
            "step": 0.01,
            "_model_name": "FloatSliderModel",
            "orientation": "horizontal",
            "max": 0.99,
            "_view_module": "@jupyter-widgets/controls",
            "_model_module_version": "1.5.0",
            "value": 0.44,
            "_view_count": null,
            "disabled": false,
            "_view_module_version": "1.5.0",
            "min": 0.01,
            "continuous_update": true,
            "readout_format": ".2f",
            "description_tooltip": null,
            "readout": true,
            "_model_module": "@jupyter-widgets/controls",
            "layout": "IPY_MODEL_45b0da4e2e854831aec1cf0112f76564"
          }
        },
        "54532e6003494944affc8971e866628b": {
          "model_module": "@jupyter-widgets/output",
          "model_name": "OutputModel",
          "model_module_version": "1.0.0",
          "state": {
            "_view_name": "OutputView",
            "msg_id": "",
            "_dom_classes": [],
            "_model_name": "OutputModel",
            "outputs": [
              {
                "output_type": "display_data",
                "data": {
                  "text/plain": "tensor([-7.4401])"
                },
                "metadata": {}
              }
            ],
            "_view_module": "@jupyter-widgets/output",
            "_model_module_version": "1.0.0",
            "_view_count": null,
            "_view_module_version": "1.0.0",
            "layout": "IPY_MODEL_75656c7a8e62420bba68d2c97050caf7",
            "_model_module": "@jupyter-widgets/output"
          }
        },
        "ae81ffff64ab4585a2b87d37a770e8a0": {
          "model_module": "@jupyter-widgets/controls",
          "model_name": "SliderStyleModel",
          "model_module_version": "1.5.0",
          "state": {
            "_view_name": "StyleView",
            "handle_color": null,
            "_model_name": "SliderStyleModel",
            "description_width": "",
            "_view_module": "@jupyter-widgets/base",
            "_model_module_version": "1.5.0",
            "_view_count": null,
            "_view_module_version": "1.2.0",
            "_model_module": "@jupyter-widgets/controls"
          }
        },
        "45b0da4e2e854831aec1cf0112f76564": {
          "model_module": "@jupyter-widgets/base",
          "model_name": "LayoutModel",
          "model_module_version": "1.2.0",
          "state": {
            "_view_name": "LayoutView",
            "grid_template_rows": null,
            "right": null,
            "justify_content": null,
            "_view_module": "@jupyter-widgets/base",
            "overflow": null,
            "_model_module_version": "1.2.0",
            "_view_count": null,
            "flex_flow": null,
            "width": null,
            "min_width": null,
            "border": null,
            "align_items": null,
            "bottom": null,
            "_model_module": "@jupyter-widgets/base",
            "top": null,
            "grid_column": null,
            "overflow_y": null,
            "overflow_x": null,
            "grid_auto_flow": null,
            "grid_area": null,
            "grid_template_columns": null,
            "flex": null,
            "_model_name": "LayoutModel",
            "justify_items": null,
            "grid_row": null,
            "max_height": null,
            "align_content": null,
            "visibility": null,
            "align_self": null,
            "height": null,
            "min_height": null,
            "padding": null,
            "grid_auto_rows": null,
            "grid_gap": null,
            "max_width": null,
            "order": null,
            "_view_module_version": "1.2.0",
            "grid_template_areas": null,
            "object_position": null,
            "object_fit": null,
            "grid_auto_columns": null,
            "margin": null,
            "display": null,
            "left": null
          }
        },
        "75656c7a8e62420bba68d2c97050caf7": {
          "model_module": "@jupyter-widgets/base",
          "model_name": "LayoutModel",
          "model_module_version": "1.2.0",
          "state": {
            "_view_name": "LayoutView",
            "grid_template_rows": null,
            "right": null,
            "justify_content": null,
            "_view_module": "@jupyter-widgets/base",
            "overflow": null,
            "_model_module_version": "1.2.0",
            "_view_count": null,
            "flex_flow": null,
            "width": null,
            "min_width": null,
            "border": null,
            "align_items": null,
            "bottom": null,
            "_model_module": "@jupyter-widgets/base",
            "top": null,
            "grid_column": null,
            "overflow_y": null,
            "overflow_x": null,
            "grid_auto_flow": null,
            "grid_area": null,
            "grid_template_columns": null,
            "flex": null,
            "_model_name": "LayoutModel",
            "justify_items": null,
            "grid_row": null,
            "max_height": null,
            "align_content": null,
            "visibility": null,
            "align_self": null,
            "height": null,
            "min_height": null,
            "padding": null,
            "grid_auto_rows": null,
            "grid_gap": null,
            "max_width": null,
            "order": null,
            "_view_module_version": "1.2.0",
            "grid_template_areas": null,
            "object_position": null,
            "object_fit": null,
            "grid_auto_columns": null,
            "margin": null,
            "display": null,
            "left": null
          }
        },
        "3f556597c4604e29b8f44257e1e6dceb": {
          "model_module": "jupyter-matplotlib",
          "model_name": "MPLCanvasModel",
          "model_module_version": "^0.10.5",
          "state": {
            "_view_name": "MPLCanvasView",
            "pan_zoom_throttle": 33,
            "_view_module": "jupyter-matplotlib",
            "_figure_label": "Figure",
            "_view_count": null,
            "_size": [
              432,
              288
            ],
            "_cursor": "pointer",
            "capture_scroll": false,
            "layout": "IPY_MODEL_81270639f211484da32e899459c2900e",
            "_model_module": "jupyter-matplotlib",
            "footer_visible": true,
            "_image_mode": "full",
            "_dom_classes": [],
            "resizable": true,
            "_model_name": "MPLCanvasModel",
            "header_visible": true,
            "_model_module_version": "^0.10.5",
            "_rubberband_x": 0,
            "_rubberband_y": 0,
            "toolbar": "IPY_MODEL_405a438299ee41bd847d477d344a0634",
            "_data_url": "data:image/png;base64,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",
            "toolbar_visible": "fade-in-fade-out",
            "_rubberband_width": 0,
            "_message": "",
            "_rubberband_height": 0,
            "_view_module_version": "^0.10.5",
            "toolbar_position": "left"
          }
        },
        "242c768fd4314c4da7b745f47ccc5154": {
          "model_module": "jupyter-matplotlib",
          "model_name": "MPLCanvasModel",
          "model_module_version": "^0.10.5",
          "state": {
            "_view_name": "MPLCanvasView",
            "pan_zoom_throttle": 33,
            "_view_module": "jupyter-matplotlib",
            "_figure_label": "Figure",
            "_view_count": null,
            "_size": [
              432,
              288
            ],
            "_cursor": "pointer",
            "capture_scroll": false,
            "layout": "IPY_MODEL_e2f54b3086a9423aa68eb9cee19f4eed",
            "_model_module": "jupyter-matplotlib",
            "footer_visible": true,
            "_image_mode": "full",
            "_dom_classes": [],
            "resizable": true,
            "_model_name": "MPLCanvasModel",
            "header_visible": true,
            "_model_module_version": "^0.10.5",
            "_rubberband_x": 0,
            "_rubberband_y": 0,
            "toolbar": "IPY_MODEL_68484a41440f46efaee725df1b5b8a21",
            "_data_url": "data:image/png;base64,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",
            "toolbar_visible": "fade-in-fade-out",
            "_rubberband_width": 0,
            "_message": "",
            "_rubberband_height": 0,
            "_view_module_version": "^0.10.5",
            "toolbar_position": "left"
          }
        },
        "e06c699843fb4292b372b18764ccb33b": {
          "model_module": "jupyter-matplotlib",
          "model_name": "MPLCanvasModel",
          "model_module_version": "^0.10.5",
          "state": {
            "_view_name": "MPLCanvasView",
            "pan_zoom_throttle": 33,
            "_view_module": "jupyter-matplotlib",
            "_figure_label": "Figure",
            "_view_count": null,
            "_size": [
              432,
              288
            ],
            "_cursor": "pointer",
            "capture_scroll": false,
            "layout": "IPY_MODEL_69d1cbd9d3844d008a8e2e865013511d",
            "_model_module": "jupyter-matplotlib",
            "footer_visible": true,
            "_image_mode": "full",
            "_dom_classes": [],
            "resizable": true,
            "_model_name": "MPLCanvasModel",
            "header_visible": true,
            "_model_module_version": "^0.10.5",
            "_rubberband_x": 0,
            "_rubberband_y": 0,
            "toolbar": "IPY_MODEL_c09b18ca161c4b639b6336623f2aad06",
            "_data_url": "data:image/png;base64,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",
            "toolbar_visible": "fade-in-fade-out",
            "_rubberband_width": 0,
            "_message": "",
            "_rubberband_height": 0,
            "_view_module_version": "^0.10.5",
            "toolbar_position": "left"
          }
        }
      }
    }
  },
  "cells": [
    {
      "cell_type": "markdown",
      "metadata": {
        "id": "view-in-github",
        "colab_type": "text"
      },
      "source": [
        "<a href=\"https://colab.research.google.com/github/xxxcrttt/SQL/blob/main/sps_lecture3.ipynb\" target=\"_parent\"><img src=\"https://colab.research.google.com/assets/colab-badge.svg\" alt=\"Open In Colab\"/></a>"
      ]
    },
    {
      "cell_type": "code",
      "source": [
        "!pip install ipympl"
      ],
      "metadata": {
        "colab": {
          "base_uri": "https://localhost:8080/",
          "height": 922
        },
        "id": "AJsNuSRX0RTi",
        "outputId": "bbc7169d-75c1-47c0-809c-349d5e88d8c3"
      },
      "execution_count": null,
      "outputs": [
        {
          "output_type": "stream",
          "name": "stdout",
          "text": [
            "Requirement already satisfied: ipympl in /usr/local/lib/python3.7/dist-packages (0.8.7)\n",
            "Requirement already satisfied: numpy in /usr/local/lib/python3.7/dist-packages (from ipympl) (1.19.5)\n",
            "Requirement already satisfied: ipywidgets<8,>=7.6.0 in /usr/local/lib/python3.7/dist-packages (from ipympl) (7.6.5)\n",
            "Requirement already satisfied: pillow in /usr/local/lib/python3.7/dist-packages (from ipympl) (7.1.2)\n",
            "Requirement already satisfied: traitlets<6 in /usr/local/lib/python3.7/dist-packages (from ipympl) (5.1.1)\n",
            "Requirement already satisfied: matplotlib<4,>=2.0.0 in /usr/local/lib/python3.7/dist-packages (from ipympl) (3.2.2)\n",
            "Requirement already satisfied: ipython-genutils in /usr/local/lib/python3.7/dist-packages (from ipympl) (0.2.0)\n",
            "Requirement already satisfied: ipython<9 in /usr/local/lib/python3.7/dist-packages (from ipympl) (5.5.0)\n",
            "Requirement already satisfied: prompt-toolkit<2.0.0,>=1.0.4 in /usr/local/lib/python3.7/dist-packages (from ipython<9->ipympl) (1.0.18)\n",
            "Requirement already satisfied: pickleshare in /usr/local/lib/python3.7/dist-packages (from ipython<9->ipympl) (0.7.5)\n",
            "Requirement already satisfied: pexpect in /usr/local/lib/python3.7/dist-packages (from ipython<9->ipympl) (4.8.0)\n",
            "Requirement already satisfied: decorator in /usr/local/lib/python3.7/dist-packages (from ipython<9->ipympl) (4.4.2)\n",
            "Requirement already satisfied: setuptools>=18.5 in /usr/local/lib/python3.7/dist-packages (from ipython<9->ipympl) (57.4.0)\n",
            "Requirement already satisfied: simplegeneric>0.8 in /usr/local/lib/python3.7/dist-packages (from ipython<9->ipympl) (0.8.1)\n",
            "Requirement already satisfied: pygments in /usr/local/lib/python3.7/dist-packages (from ipython<9->ipympl) (2.6.1)\n",
            "Requirement already satisfied: ipykernel>=4.5.1 in /usr/local/lib/python3.7/dist-packages (from ipywidgets<8,>=7.6.0->ipympl) (4.10.1)\n",
            "Requirement already satisfied: widgetsnbextension~=3.5.0 in /usr/local/lib/python3.7/dist-packages (from ipywidgets<8,>=7.6.0->ipympl) (3.5.2)\n",
            "Requirement already satisfied: jupyterlab-widgets>=1.0.0 in /usr/local/lib/python3.7/dist-packages (from ipywidgets<8,>=7.6.0->ipympl) (1.0.2)\n",
            "Requirement already satisfied: nbformat>=4.2.0 in /usr/local/lib/python3.7/dist-packages (from ipywidgets<8,>=7.6.0->ipympl) (5.1.3)\n",
            "Requirement already satisfied: jupyter-client in /usr/local/lib/python3.7/dist-packages (from ipykernel>=4.5.1->ipywidgets<8,>=7.6.0->ipympl) (5.3.5)\n",
            "Requirement already satisfied: tornado>=4.0 in /usr/local/lib/python3.7/dist-packages (from ipykernel>=4.5.1->ipywidgets<8,>=7.6.0->ipympl) (5.1.1)\n",
            "Requirement already satisfied: cycler>=0.10 in /usr/local/lib/python3.7/dist-packages (from matplotlib<4,>=2.0.0->ipympl) (0.11.0)\n",
            "Requirement already satisfied: pyparsing!=2.0.4,!=2.1.2,!=2.1.6,>=2.0.1 in /usr/local/lib/python3.7/dist-packages (from matplotlib<4,>=2.0.0->ipympl) (3.0.6)\n",
            "Requirement already satisfied: python-dateutil>=2.1 in /usr/local/lib/python3.7/dist-packages (from matplotlib<4,>=2.0.0->ipympl) (2.8.2)\n",
            "Requirement already satisfied: kiwisolver>=1.0.1 in /usr/local/lib/python3.7/dist-packages (from matplotlib<4,>=2.0.0->ipympl) (1.3.2)\n",
            "Requirement already satisfied: jupyter-core in /usr/local/lib/python3.7/dist-packages (from nbformat>=4.2.0->ipywidgets<8,>=7.6.0->ipympl) (4.9.1)\n",
            "Requirement already satisfied: jsonschema!=2.5.0,>=2.4 in /usr/local/lib/python3.7/dist-packages (from nbformat>=4.2.0->ipywidgets<8,>=7.6.0->ipympl) (4.3.3)\n",
            "Requirement already satisfied: importlib-metadata in /usr/local/lib/python3.7/dist-packages (from jsonschema!=2.5.0,>=2.4->nbformat>=4.2.0->ipywidgets<8,>=7.6.0->ipympl) (4.10.0)\n",
            "Requirement already satisfied: pyrsistent!=0.17.0,!=0.17.1,!=0.17.2,>=0.14.0 in /usr/local/lib/python3.7/dist-packages (from jsonschema!=2.5.0,>=2.4->nbformat>=4.2.0->ipywidgets<8,>=7.6.0->ipympl) (0.18.0)\n",
            "Requirement already satisfied: typing-extensions in /usr/local/lib/python3.7/dist-packages (from jsonschema!=2.5.0,>=2.4->nbformat>=4.2.0->ipywidgets<8,>=7.6.0->ipympl) (3.10.0.2)\n",
            "Requirement already satisfied: attrs>=17.4.0 in /usr/local/lib/python3.7/dist-packages (from jsonschema!=2.5.0,>=2.4->nbformat>=4.2.0->ipywidgets<8,>=7.6.0->ipympl) (21.4.0)\n",
            "Requirement already satisfied: importlib-resources>=1.4.0 in /usr/local/lib/python3.7/dist-packages (from jsonschema!=2.5.0,>=2.4->nbformat>=4.2.0->ipywidgets<8,>=7.6.0->ipympl) (5.4.0)\n",
            "Requirement already satisfied: zipp>=3.1.0 in /usr/local/lib/python3.7/dist-packages (from importlib-resources>=1.4.0->jsonschema!=2.5.0,>=2.4->nbformat>=4.2.0->ipywidgets<8,>=7.6.0->ipympl) (3.7.0)\n",
            "Requirement already satisfied: six>=1.9.0 in /usr/local/lib/python3.7/dist-packages (from prompt-toolkit<2.0.0,>=1.0.4->ipython<9->ipympl) (1.15.0)\n",
            "Requirement already satisfied: wcwidth in /usr/local/lib/python3.7/dist-packages (from prompt-toolkit<2.0.0,>=1.0.4->ipython<9->ipympl) (0.2.5)\n",
            "Requirement already satisfied: notebook>=4.4.1 in /usr/local/lib/python3.7/dist-packages (from widgetsnbextension~=3.5.0->ipywidgets<8,>=7.6.0->ipympl) (5.3.1)\n",
            "Requirement already satisfied: Send2Trash in /usr/local/lib/python3.7/dist-packages (from notebook>=4.4.1->widgetsnbextension~=3.5.0->ipywidgets<8,>=7.6.0->ipympl) (1.8.0)\n",
            "Requirement already satisfied: nbconvert in /usr/local/lib/python3.7/dist-packages (from notebook>=4.4.1->widgetsnbextension~=3.5.0->ipywidgets<8,>=7.6.0->ipympl) (5.6.1)\n",
            "Requirement already satisfied: terminado>=0.8.1 in /usr/local/lib/python3.7/dist-packages (from notebook>=4.4.1->widgetsnbextension~=3.5.0->ipywidgets<8,>=7.6.0->ipympl) (0.12.1)\n",
            "Requirement already satisfied: jinja2 in /usr/local/lib/python3.7/dist-packages (from notebook>=4.4.1->widgetsnbextension~=3.5.0->ipywidgets<8,>=7.6.0->ipympl) (2.11.3)\n",
            "Requirement already satisfied: pyzmq>=13 in /usr/local/lib/python3.7/dist-packages (from jupyter-client->ipykernel>=4.5.1->ipywidgets<8,>=7.6.0->ipympl) (22.3.0)\n",
            "Requirement already satisfied: ptyprocess in /usr/local/lib/python3.7/dist-packages (from terminado>=0.8.1->notebook>=4.4.1->widgetsnbextension~=3.5.0->ipywidgets<8,>=7.6.0->ipympl) (0.7.0)\n",
            "Requirement already satisfied: MarkupSafe>=0.23 in /usr/local/lib/python3.7/dist-packages (from jinja2->notebook>=4.4.1->widgetsnbextension~=3.5.0->ipywidgets<8,>=7.6.0->ipympl) (2.0.1)\n",
            "Requirement already satisfied: bleach in /usr/local/lib/python3.7/dist-packages (from nbconvert->notebook>=4.4.1->widgetsnbextension~=3.5.0->ipywidgets<8,>=7.6.0->ipympl) (4.1.0)\n",
            "Requirement already satisfied: entrypoints>=0.2.2 in /usr/local/lib/python3.7/dist-packages (from nbconvert->notebook>=4.4.1->widgetsnbextension~=3.5.0->ipywidgets<8,>=7.6.0->ipympl) (0.3)\n",
            "Requirement already satisfied: defusedxml in /usr/local/lib/python3.7/dist-packages (from nbconvert->notebook>=4.4.1->widgetsnbextension~=3.5.0->ipywidgets<8,>=7.6.0->ipympl) (0.7.1)\n",
            "Requirement already satisfied: testpath in /usr/local/lib/python3.7/dist-packages (from nbconvert->notebook>=4.4.1->widgetsnbextension~=3.5.0->ipywidgets<8,>=7.6.0->ipympl) (0.5.0)\n",
            "Requirement already satisfied: pandocfilters>=1.4.1 in /usr/local/lib/python3.7/dist-packages (from nbconvert->notebook>=4.4.1->widgetsnbextension~=3.5.0->ipywidgets<8,>=7.6.0->ipympl) (1.5.0)\n",
            "Requirement already satisfied: mistune<2,>=0.8.1 in /usr/local/lib/python3.7/dist-packages (from nbconvert->notebook>=4.4.1->widgetsnbextension~=3.5.0->ipywidgets<8,>=7.6.0->ipympl) (0.8.4)\n",
            "Requirement already satisfied: packaging in /usr/local/lib/python3.7/dist-packages (from bleach->nbconvert->notebook>=4.4.1->widgetsnbextension~=3.5.0->ipywidgets<8,>=7.6.0->ipympl) (21.3)\n",
            "Requirement already satisfied: webencodings in /usr/local/lib/python3.7/dist-packages (from bleach->nbconvert->notebook>=4.4.1->widgetsnbextension~=3.5.0->ipywidgets<8,>=7.6.0->ipympl) (0.5.1)\n"
          ]
        }
      ]
    },
    {
      "cell_type": "code",
      "source": [
        "import numpy as np\n",
        "import torch as t\n",
        "import matplotlib.pyplot as plt\n",
        "%matplotlib widget\n",
        "from ipywidgets import FloatSlider, IntSlider, interact, interact_manual\n",
        "from torch.distributions import Bernoulli\n",
        "from torch.distributions import MultivariateNormal as MvNormal"
      ],
      "metadata": {
        "id": "FQzFM-ZLzpp4"
      },
      "execution_count": null,
      "outputs": []
    },
    {
      "cell_type": "markdown",
      "source": [
        "# Lecture 3\n",
        "## Bayesian inference for unsupervised learning \n",
        "\n",
        "### Simple example: A biased coin flip \n",
        "\n",
        "This is a Bernoulli distribution with probability $p$ -- a biased coin flip."
      ],
      "metadata": {
        "id": "M8e_iYcszgBx"
      }
    },
    {
      "cell_type": "code",
      "execution_count": null,
      "metadata": {
        "colab": {
          "base_uri": "https://localhost:8080/",
          "height": 98,
          "referenced_widgets": [
            "40b89a890b8e4eb894b6d3ddfd5dc9b7",
            "4f2032c1e69e4c5faed02a96837b9037",
            "d4c282757b8e4dd69a14f4cc44fcc530",
            "18fcb042f1884502983a05fccd05b2b6",
            "aaa011d1d68a40e382cdc998f6808fc0",
            "dbffb099ae6941c889c12679d255ea18",
            "e60985c7585547159224ce759b7ffafd",
            "ceb580be896b48e882758afc736a1dd0",
            "ab2d38f45a1147fb98cfd9de6d4ff41d",
            "a938058d331b4cd88cd180b564e0b35d"
          ]
        },
        "id": "UtQSaIAwzcUX",
        "outputId": "a997364d-def5-43ad-9a50-808efb98af1f"
      },
      "outputs": [
        {
          "output_type": "display_data",
          "data": {
            "application/vnd.jupyter.widget-view+json": {
              "model_id": "40b89a890b8e4eb894b6d3ddfd5dc9b7",
              "version_minor": 0,
              "version_major": 2
            },
            "text/plain": [
              "interactive(children=(FloatSlider(value=0.5, description='p', max=1.0, step=0.05), Button(description='Run Int…"
            ]
          },
          "metadata": {}
        }
      ],
      "source": [
        "def sample_bernoulli(p):\n",
        "  return Bernoulli(probs=p).sample((10,))\n",
        "\n",
        "interact_manual(sample_bernoulli, p=FloatSlider(value=0.5, min=0, max=1, step=0.05));\n",
        " "
      ]
    },
    {
      "cell_type": "markdown",
      "source": [
        "compute the probability of a sample, under this distribution. $x$ is distributed according to a Bernoulli:\n",
        "\n",
        "\\begin{align}\n",
        "P(x| p) = Bernoulli(x; p)\n",
        "\\end{align}\n",
        "\n",
        "where: \n",
        "\n",
        "\\begin{align}\n",
        "Bernoulli(x;p) = \\begin{cases} 1-p &\\text{ if } x=0 \\\\ p &\\text{ if } x=1 \\end{cases}\n",
        "\\end{align}\n",
        "\n",
        "Thus we can evaluate the probability of a sample (0. or 1.) under a Bernoulli.\n"
      ],
      "metadata": {
        "id": "kuzc__B11NnS"
      }
    },
    {
      "cell_type": "markdown",
      "source": [
        "#### Maximum Likelihood Fitting of a Bernoulli "
      ],
      "metadata": {
        "id": "xcvn0frm3eSy"
      }
    },
    {
      "cell_type": "code",
      "source": [
        "# specifying the data \n",
        "xs = t.tensor([0., 0., 0., 0., 1., 0., 0., 0., 0., 0., 0., 1.])\n",
        "xs.shape"
      ],
      "metadata": {
        "colab": {
          "base_uri": "https://localhost:8080/"
        },
        "id": "nzATpdp31NNr",
        "outputId": "9fed9cff-b748-4822-ae7c-a6c761ba004d"
      },
      "execution_count": null,
      "outputs": [
        {
          "output_type": "execute_result",
          "data": {
            "text/plain": [
              "torch.Size([12])"
            ]
          },
          "metadata": {},
          "execution_count": 8
        }
      ]
    },
    {
      "cell_type": "markdown",
      "source": [
        "The likelihood, is the probability of all the data, treated as a function of the parameter, $p$, is:\n",
        "\n",
        "\\begin{align}\n",
        "  P(x| p) = \\prod_\\lambda P(x_\\lambda| p)\n",
        "\\end{align}\n",
        "\n",
        "log-likelihood:   \n",
        "is considered a function of the parameters(s), $p$, but not the data, which is considered fixed. \n",
        "\n",
        "\\begin{align}\n",
        "  L(p) = \\sum_\\lambda \\log P(x_\\lambda| p)\n",
        "\\end{align}\n",
        "\n",
        "The goal is to fine $\\hat p$ which maximizes $L(p)$:\n",
        "\n",
        "\\begin{align}\n",
        "  \\hat p = argmax_{p} L(p)\n",
        "\\end{align}"
      ],
      "metadata": {
        "id": "Kv70pm-b38-Z"
      }
    },
    {
      "cell_type": "code",
      "source": [
        "def log_likelihood(p):\n",
        "  return Bernoulli(probs=p).log_prob(xs).sum(-1, keepdim=True)\n",
        "  \n",
        "interact(log_likelihood, p=FloatSlider(min=0.01, max=0.99, step=0.01));\n",
        " "
      ],
      "metadata": {
        "colab": {
          "base_uri": "https://localhost:8080/",
          "height": 66,
          "referenced_widgets": [
            "305b6234eb2949148772c7419096c845",
            "68f57d9bda694b0ea163cbcd922868ff",
            "fc0fef65252d443f93bbba6032ba922e",
            "54532e6003494944affc8971e866628b",
            "ae81ffff64ab4585a2b87d37a770e8a0",
            "45b0da4e2e854831aec1cf0112f76564",
            "75656c7a8e62420bba68d2c97050caf7"
          ]
        },
        "id": "2A3l_55H5B5n",
        "outputId": "5e6df1e1-6862-40be-d054-0743b7f0c42a"
      },
      "execution_count": null,
      "outputs": [
        {
          "output_type": "display_data",
          "data": {
            "application/vnd.jupyter.widget-view+json": {
              "model_id": "305b6234eb2949148772c7419096c845",
              "version_minor": 0,
              "version_major": 2
            },
            "text/plain": [
              "interactive(children=(FloatSlider(value=0.01, description='p', max=0.99, min=0.01, step=0.01), Output()), _dom…"
            ]
          },
          "metadata": {}
        }
      ]
    },
    {
      "cell_type": "code",
      "source": [
        "# Plot the log_likelihood\n",
        "ps = t.linspace(0.01, 0.99, 99)[:,None]\n",
        "print(ps.shape)\n",
        "ps[:6, :]"
      ],
      "metadata": {
        "colab": {
          "base_uri": "https://localhost:8080/"
        },
        "id": "mO7aegfx5VnU",
        "outputId": "8e0559da-d3f0-49d9-a536-19c013df58b2"
      },
      "execution_count": null,
      "outputs": [
        {
          "output_type": "stream",
          "name": "stdout",
          "text": [
            "torch.Size([99, 1])\n"
          ]
        },
        {
          "output_type": "execute_result",
          "data": {
            "text/plain": [
              "tensor([[0.0100],\n",
              "        [0.0200],\n",
              "        [0.0300],\n",
              "        [0.0400],\n",
              "        [0.0500],\n",
              "        [0.0600]])"
            ]
          },
          "metadata": {},
          "execution_count": 10
        }
      ]
    },
    {
      "cell_type": "code",
      "source": [
        "lls = log_likelihood(ps)\n",
        "lls.shape"
      ],
      "metadata": {
        "colab": {
          "base_uri": "https://localhost:8080/"
        },
        "id": "maQ-NnBg5gqO",
        "outputId": "5ee5959e-87e9-4437-d03b-661babcd30c3"
      },
      "execution_count": null,
      "outputs": [
        {
          "output_type": "execute_result",
          "data": {
            "text/plain": [
              "torch.Size([99, 1])"
            ]
          },
          "metadata": {},
          "execution_count": 11
        }
      ]
    },
    {
      "cell_type": "code",
      "source": [
        "from google.colab import output\n",
        "output.enable_custom_widget_manager()"
      ],
      "metadata": {
        "id": "Jqq3WNo85zqW"
      },
      "execution_count": null,
      "outputs": []
    },
    {
      "cell_type": "code",
      "source": [
        "from google.colab import output\n",
        "output.disable_custom_widget_manager()"
      ],
      "metadata": {
        "id": "Hmyov4pO5zqX"
      },
      "execution_count": null,
      "outputs": []
    },
    {
      "cell_type": "code",
      "source": [
        "fig, ax = plt.subplots()\n",
        "ax.set_xlabel(\"p\")\n",
        "ax.set_ylabel(\"log-likelihood\")\n",
        "ax.plot(ps, lls);"
      ],
      "metadata": {
        "colab": {
          "base_uri": "https://localhost:8080/",
          "height": 17,
          "referenced_widgets": [
            "3f556597c4604e29b8f44257e1e6dceb"
          ]
        },
        "id": "PiI1dEJc5kpt",
        "outputId": "8563e73a-21b8-4a94-d0c5-19f8c238acab"
      },
      "execution_count": null,
      "outputs": [
        {
          "output_type": "display_data",
          "data": {
            "image/png": "[encoded data removed]",
            "application/vnd.jupyter.widget-view+json": {
              "model_id": "3f556597c4604e29b8f44257e1e6dceb",
              "version_minor": 0,
              "version_major": 2
            },
            "text/html": [
              "\n",
              "            <div style=\"display: inline-block;\">\n",
              "                <div class=\"jupyter-widgets widget-label\" style=\"text-align: center;\">\n",
              "                    Figure\n",
              "                </div>\n",
              "                <img src='data:image/png;base64,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' width=432.0/>\n",
              "            </div>\n",
              "        "
            ],
            "text/plain": [
              "Canvas(toolbar=Toolbar(toolitems=[('Home', 'Reset original view', 'home', 'home'), ('Back', 'Back to previous …"
            ]
          },
          "metadata": {}
        }
      ]
    },
    {
      "cell_type": "markdown",
      "source": [
        "With many more parameters -- other way!\n",
        "\n",
        "1. Try to find an analytic expression for the $p$ with the maximal log-probabilty:\n",
        "\n",
        "\\begin{align}\n",
        "  L(p) &= \\sum_\\lambda \\log P(x_\\lambda| p)\\\\\n",
        "  L(p) &= (\\sum_\\lambda x_\\lambda) \\log p + (N - \\sum_\\lambda x_\\lambda) \\log (1-p)\n",
        "\\end{align}\n",
        "\n",
        "Solve for where the gradient is 0: \n",
        "\n",
        "\n",
        "\\dfrac{\\partial f}{\\partial x}\n",
        "\n",
        "\n",
        "\\begin{align}\n",
        "  0 &= \\at \\dfrac{\\partial L(p)} {∂ p}_{p=\\hat{p}}\\\\\n",
        "  0 &= \\dfrac{\\sum_\\lambda x_\\lambda}{\\hat{p}} - \\frac{N - \\sum_\\lambda x_\\lambda}{1-\\hat{p}}\\\\\n",
        "  \\frac{\\sum_\\lambda x_\\lambda}{\\hat{p}} &= \\frac{N - \\sum_\\lambda x_\\lambda}{1-\\hat{p}}\\\\\n",
        "  (1-\\hat{p}) \\sum_\\lambda x_\\lambda &= \\hat{p} ({N - \\sum_\\lambda x_\\lambda})\\\\\n",
        "  \\sum_\\lambda x_\\lambda &= \\hat{p} N\\\\\n",
        "  \\hat{p} &= \\tfrac{1}{N} \\sum_i x_i\n",
        "\\end{align}\n",
        "\n",
        "The maximum-likelihood probability is the empirical mean of the data points. \n",
        "\n",
        "Under this derivation, we can write a function that automatically fits a Bernoulli distribution.\n",
        "\n"
      ],
      "metadata": {
        "id": "llMEuDHD6g_e"
      }
    },
    {
      "cell_type": "code",
      "source": [
        "def fit_bernoulli(xs):\n",
        "  p = xs.sum() / xs.shape[-1]\n",
        "  return Bernoulli(probs=p)\n",
        "\n",
        "fitted_bernoulli = fit_bernoulli(xs)"
      ],
      "metadata": {
        "id": "6Z54YQvy8_ED"
      },
      "execution_count": null,
      "outputs": []
    },
    {
      "cell_type": "code",
      "source": [
        "# such that samples from the fitted Bernoulli look like the data\n",
        "xs"
      ],
      "metadata": {
        "colab": {
          "base_uri": "https://localhost:8080/",
          "height": 34
        },
        "id": "6MjiaQgA9PLD",
        "outputId": "1c46c226-0edb-448f-ab36-82d3f9d4f617"
      },
      "execution_count": null,
      "outputs": [
        {
          "output_type": "execute_result",
          "data": {
            "text/plain": [
              "tensor([0., 0., 0., 0., 1., 0., 0., 0., 0., 0., 0., 1.])"
            ]
          },
          "metadata": {},
          "execution_count": 25
        }
      ]
    },
    {
      "cell_type": "code",
      "source": [
        "fitted_bernoulli.sample((12,))"
      ],
      "metadata": {
        "colab": {
          "base_uri": "https://localhost:8080/",
          "height": 34
        },
        "id": "Mb7aFlOD9Wk8",
        "outputId": "19f40684-3ce9-4cc4-a7c1-1f86a252010a"
      },
      "execution_count": null,
      "outputs": [
        {
          "output_type": "execute_result",
          "data": {
            "text/plain": [
              "tensor([1., 0., 1., 1., 0., 0., 0., 0., 0., 1., 0., 1.])"
            ]
          },
          "metadata": {},
          "execution_count": 27
        }
      ]
    },
    {
      "cell_type": "markdown",
      "source": [
        "#### Bayesian fitting of a Bernoulli\n",
        "-- when we have vey little data\n",
        "\n",
        "the probabilities are drawn from  a uniform distribution: \n",
        "\n",
        "\\begin{align}\n",
        "  P(p) &= Uniform(p; 0, 1)\n",
        "\\end{align}\n",
        "\n",
        "Start by drawing a large number of $p$s, from the uniform prior:\n",
        "\n",
        "the value on the x-axis are *probability densities*, not probabilities"
      ],
      "metadata": {
        "id": "ILexX9wy9gOE"
      }
    },
    {
      "cell_type": "code",
      "source": [
        "N = 10**5\n",
        "ps = t.rand(N)\n",
        "fig, ax = plt.subplots()\n",
        "ax.set_xlabel(\"p\")\n",
        "ax.set_ylabel(\"P(p)\")\n",
        "ax.hist(ps, density=True);"
      ],
      "metadata": {
        "colab": {
          "base_uri": "https://localhost:8080/",
          "height": 17,
          "referenced_widgets": [
            "242c768fd4314c4da7b745f47ccc5154"
          ]
        },
        "id": "lmxS0RxK-ckR",
        "outputId": "c639b596-8857-46e6-b48a-66acfe1840ce"
      },
      "execution_count": null,
      "outputs": [
        {
          "output_type": "display_data",
          "data": {
            "image/png": "[encoded data removed]",
            "application/vnd.jupyter.widget-view+json": {
              "model_id": "242c768fd4314c4da7b745f47ccc5154",
              "version_minor": 0,
              "version_major": 2
            },
            "text/html": [
              "\n",
              "            <div style=\"display: inline-block;\">\n",
              "                <div class=\"jupyter-widgets widget-label\" style=\"text-align: center;\">\n",
              "                    Figure\n",
              "                </div>\n",
              "                <img src='data:image/png;base64,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' width=432.0/>\n",
              "            </div>\n",
              "        "
            ],
            "text/plain": [
              "Canvas(toolbar=Toolbar(toolitems=[('Home', 'Reset original view', 'home', 'home'), ('Back', 'Back to previous …"
            ]
          },
          "metadata": {}
        }
      ]
    },
    {
      "cell_type": "markdown",
      "source": [
        "The probability of being in any given bin is: \n",
        "\n",
        "\\begin{align}\n",
        "  \\int_{p_0}^{p_0 + \\delta} dp \\; P(p) \\approx \\delta P(p)\n",
        "\\end{align}\n",
        "\n",
        "which is the bin-width times the probability density. \n",
        "\n",
        "Here we have 20 bins, with the probability density 1, and bin width $\\delta = 1/20$.\n",
        "\n",
        "The probability of being in any 1 bin is therefore $P(p) \\times \\delta = 1 \\times 1/20 = 1/20$"
      ],
      "metadata": {
        "id": "UdbeBPTu_DmU"
      }
    },
    {
      "cell_type": "code",
      "source": [
        "xs = Bernoulli(ps).sample((2,))\n",
        "xs\n",
        "xs.shape"
      ],
      "metadata": {
        "colab": {
          "base_uri": "https://localhost:8080/",
          "height": 34
        },
        "id": "ZT7KWn42_sRU",
        "outputId": "7a21b37a-f4b3-4031-bbea-14505d6abfd3"
      },
      "execution_count": null,
      "outputs": [
        {
          "output_type": "execute_result",
          "data": {
            "text/plain": [
              "torch.Size([2, 100000])"
            ]
          },
          "metadata": {},
          "execution_count": 33
        }
      ]
    },
    {
      "cell_type": "code",
      "source": [
        "# filter out only those values of p which actually gives 2 zeros\n",
        "all_zeros = (xs==0.).all(0)\n",
        "print(all_zeros)\n",
        "print(all_zeros.sum())\n",
        "ps_all_zeros = ps[all_zeros]\n",
        "print(ps_all_zeros.shape)"
      ],
      "metadata": {
        "colab": {
          "base_uri": "https://localhost:8080/",
          "height": 69
        },
        "id": "xZJ7mcLn_ygs",
        "outputId": "9714a173-d0bd-4550-a4f6-a28cee81c666"
      },
      "execution_count": null,
      "outputs": [
        {
          "output_type": "stream",
          "name": "stdout",
          "text": [
            "tensor([False,  True,  True,  ..., False, False, False])\n",
            "tensor(33270)\n",
            "torch.Size([33270])\n"
          ]
        }
      ]
    },
    {
      "cell_type": "code",
      "source": [
        "# plot those p's\n",
        "fig, ax = plt.subplots()\n",
        "ax.set_xlabel(\"p\")\n",
        "ax.set_ylabel(\"P(p|x=[0,0])\")\n",
        "ax.hist(ps_all_zeros, density=True);"
      ],
      "metadata": {
        "colab": {
          "base_uri": "https://localhost:8080/",
          "height": 17,
          "referenced_widgets": [
            "e06c699843fb4292b372b18764ccb33b"
          ]
        },
        "id": "MaHxMyTMAIrn",
        "outputId": "07fa011f-6863-451c-9e24-3d0c3c5df12b"
      },
      "execution_count": null,
      "outputs": [
        {
          "output_type": "display_data",
          "data": {
            "image/png": "[encoded data removed]",
            "application/vnd.jupyter.widget-view+json": {
              "model_id": "e06c699843fb4292b372b18764ccb33b",
              "version_minor": 0,
              "version_major": 2
            },
            "text/html": [
              "\n",
              "            <div style=\"display: inline-block;\">\n",
              "                <div class=\"jupyter-widgets widget-label\" style=\"text-align: center;\">\n",
              "                    Figure\n",
              "                </div>\n",
              "                <img src='data:image/png;base64,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' width=432.0/>\n",
              "            </div>\n",
              "        "
            ],
            "text/plain": [
              "Canvas(toolbar=Toolbar(toolitems=[('Home', 'Reset original view', 'home', 'home'), ('Back', 'Back to previous …"
            ]
          },
          "metadata": {}
        }
      ]
    },
    {
      "cell_type": "code",
      "source": [
        ""
      ],
      "metadata": {
        "id": "io6t2g4UAkrB"
      },
      "execution_count": null,
      "outputs": []
    }
  ]
}